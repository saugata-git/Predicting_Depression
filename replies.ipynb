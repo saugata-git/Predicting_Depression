{
 "cells": [
  {
   "cell_type": "code",
   "execution_count": 1,
   "metadata": {
    "collapsed": true
   },
   "outputs": [],
   "source": [
    "import json\n",
    "import tweepy\n",
    "import pandas as pd\n",
    "import numpy as np\n",
    "from datetime import datetime\n",
    "import sys\n",
    "import re\n",
    "\n",
    "from tweepy import OAuthHandler"
   ]
  },
  {
   "cell_type": "code",
   "execution_count": 2,
   "metadata": {
    "collapsed": true
   },
   "outputs": [],
   "source": [
    "consumer_key = \"gwqjEUnJZ8uI9x43e5AsrMdUs\" \n",
    "consumer_secret = \"G1lr6ZVteDPDiRmVUaZFkTlYODEhK2Y6C8C3TndybUgNSRAL8W\"\n",
    "access_token=\"810071832581799937-v57ElauDXUo3rxMhUJgjbZRCaKtWv2f\"\n",
    "access_secret=\"LnrO7Skq9DqFu87Hoc9WodQQzgvHV3UGCyjHiXYmwse34\"\n"
   ]
  },
  {
   "cell_type": "code",
   "execution_count": 3,
   "metadata": {
    "collapsed": true
   },
   "outputs": [],
   "source": [
    "auth = OAuthHandler(consumer_key, consumer_secret)\n",
    "auth.set_access_token(access_token, access_secret)\n",
    "api = tweepy.API(auth)"
   ]
  },
  {
   "cell_type": "code",
   "execution_count": 67,
   "metadata": {},
   "outputs": [
    {
     "name": "stdout",
     "output_type": "stream",
     "text": [
      "Tweet : See the world through your heart not your eyes... https://t.co/Y5GGK7TErE https://t.co/1CpcqvKd0h\n",
      "Replies : @radhanathswami Krisna prem pradyete\n",
      "Replies : @radhanathswami Even better see the world through Aatma chaksu (spiritual vision) and not   under the Maya’s vision.\n",
      "Replies : @radhanathswami True ..  unfortunately we are in search of a magic and not thankful for His kindness\n",
      "Replied by: saugata479\n",
      "Replied by: 4ever4Krishna\n",
      "Replied by: iamujr\n",
      "Tweet : Material things will only bring temporary pleasure... https://t.co/qTug1uGRzP https://t.co/YXQzhwXrL5\n",
      "Replies : @radhanathswami gour hari\n",
      "Replies : @radhanathswami HARE KRISNA\n",
      "Replies : @radhanathswami HARI BOL\n",
      "Replied by: saugata479\n",
      "Replied by: saugata479\n",
      "Replied by: saugata479\n",
      "[3, 3]\n"
     ]
    },
    {
     "data": {
      "text/plain": [
       "[['saugata479', '4ever4Krishna', 'iamujr'],\n",
       " ['saugata479', 'saugata479', 'saugata479']]"
      ]
     },
     "execution_count": 67,
     "metadata": {},
     "output_type": "execute_result"
    }
   ],
   "source": [
    "replies=[] \n",
    "names=[]\n",
    "countreplies=[]\n",
    "count_replies=0\n",
    "reply_list=[]\n",
    "re=[]\n",
    "non_bmp_map = dict.fromkeys(range(0x10000, sys.maxunicode + 1), 0xfffd)  \n",
    "for status in tweepy.Cursor(api.user_timeline,screen_name=\"@radhanathswami\",timeout=99999).items(2):\n",
    "    for tweet in tweepy.Cursor(api.search,q='to:'+\"@radhanathswami\",result_type='all',timeout=(99999)).items(10000):\n",
    "        if hasattr(tweet, 'in_reply_to_status_id_str'):\n",
    "            if (tweet.in_reply_to_status_id_str==status.id_str):\n",
    "                replies.append(tweet.text)\n",
    "                names.append(tweet.author.screen_name)\n",
    "                \n",
    "    print(\"Tweet :\",status.text.translate(non_bmp_map))\n",
    "    for elements in replies:\n",
    "        print(\"Replies :\",elements)\n",
    "        count_replies+=1\n",
    "    countreplies.append(count_replies)  \n",
    "    count_replies=0\n",
    "    for screen_name in names:\n",
    "        print(\"Replied by:\",screen_name)\n",
    "        reply_list.append(screen_name)\n",
    "        \n",
    "    names=[]\n",
    "    replies=[]  \n",
    "    \n",
    "    \n",
    "    re.append((reply_list))\n",
    "    reply_list=[]\n",
    "    \n",
    "print(countreplies)   \n",
    "\n",
    "re"
   ]
  },
  {
   "cell_type": "code",
   "execution_count": 106,
   "metadata": {
    "scrolled": true
   },
   "outputs": [
    {
     "data": {
      "text/plain": [
       "[['saugata479', '4ever4Krishna', 'iamujr'],\n",
       " ['saugata479', 'saugata479', 'saugata479']]"
      ]
     },
     "execution_count": 106,
     "metadata": {},
     "output_type": "execute_result"
    }
   ],
   "source": [
    "radha=countreplies\n",
    "radaG=re\n",
    "radha\n"
   ]
  },
  {
   "cell_type": "code",
   "execution_count": 78,
   "metadata": {
    "collapsed": true
   },
   "outputs": [],
   "source": [
    "def reply_of_secific_user_per_tweet(re,screen_name):\n",
    "                countlist=[]\n",
    "                for lst in re:\n",
    "                     countlist.append(lst.count(screen_name))\n",
    " \n",
    "                return  countlist\n"
   ]
  },
  {
   "cell_type": "code",
   "execution_count": 80,
   "metadata": {},
   "outputs": [
    {
     "data": {
      "text/plain": [
       "[1, 3]"
      ]
     },
     "execution_count": 80,
     "metadata": {},
     "output_type": "execute_result"
    }
   ],
   "source": [
    "stor=reply_of_secific_user_per_tweet(re,'saugata479')\n",
    "stor"
   ]
  },
  {
   "cell_type": "code",
   "execution_count": 32,
   "metadata": {},
   "outputs": [
    {
     "data": {
      "text/plain": [
       "5"
      ]
     },
     "execution_count": 32,
     "metadata": {},
     "output_type": "execute_result"
    }
   ],
   "source": [
    "sum(countreplies)"
   ]
  },
  {
   "cell_type": "code",
   "execution_count": 110,
   "metadata": {},
   "outputs": [
    {
     "name": "stdout",
     "output_type": "stream",
     "text": [
      "Tweet : @iskconsjmblr HARI\n",
      "Tweet : @radhanathswami gour hari\n",
      "[0, 0]\n"
     ]
    },
    {
     "data": {
      "text/plain": [
       "[[], []]"
      ]
     },
     "execution_count": 110,
     "metadata": {},
     "output_type": "execute_result"
    }
   ],
   "source": [
    "replies=[] \n",
    "names=[]\n",
    "countreplies=[]\n",
    "count_replies=0\n",
    "reply_list=[]\n",
    "re=[]\n",
    "non_bmp_map = dict.fromkeys(range(0x10000, sys.maxunicode + 1), 0xfffd)  \n",
    "for status in tweepy.Cursor(api.user_timeline,screen_name=\"@saugata479\",timeout=99999).items(2):\n",
    "    for tweet in tweepy.Cursor(api.search,q='to:'+\"@saugata479\",result_type='replies',timeout=(99999)).items(10000):\n",
    "        if hasattr(tweet, 'in_reply_to_status_id_str'):\n",
    "            if (tweet.in_reply_to_status_id_str==status.id_str):\n",
    "                replies.append(tweet.text)\n",
    "                names.append(tweet.author.screen_name)\n",
    "                \n",
    "    print(\"Tweet :\",status.text.translate(non_bmp_map))\n",
    "    for elements in replies:\n",
    "        print(\"Replies :\",elements)\n",
    "        count_replies+=1\n",
    "    countreplies.append(count_replies)  \n",
    "    count_replies=0\n",
    "    for screen_name in names:\n",
    "        print(\"Replied by:\",screen_name)\n",
    "        reply_list.append(screen_name)\n",
    "        \n",
    "    names=[]\n",
    "    replies=[]  \n",
    "    \n",
    "    \n",
    "    re.append((reply_list))\n",
    "    reply_list=[]\n",
    "    \n",
    "print(countreplies)   \n",
    "sau=countreplies\n",
    "re"
   ]
  },
  {
   "cell_type": "code",
   "execution_count": 111,
   "metadata": {},
   "outputs": [
    {
     "data": {
      "text/plain": [
       "[[], []]"
      ]
     },
     "execution_count": 111,
     "metadata": {},
     "output_type": "execute_result"
    }
   ],
   "source": [
    "sau\n",
    "sauG=re\n",
    "sauG"
   ]
  },
  {
   "cell_type": "code",
   "execution_count": 113,
   "metadata": {},
   "outputs": [
    {
     "name": "stdout",
     "output_type": "stream",
     "text": [
      "Tweet : Principles for a harmonious marriage https://t.co/zasKDRDR3F https://t.co/ecMwLeWArh\n",
      "Tweet : Sunday Feast class by HG Radhapati Gopinath Prabhu https://t.co/VBlwLePvUr\n",
      "Replies : @iskconsjmblr HARI\n",
      "Replied by: saugata479\n",
      "[0, 1]\n"
     ]
    },
    {
     "data": {
      "text/plain": [
       "[[], ['saugata479']]"
      ]
     },
     "execution_count": 113,
     "metadata": {},
     "output_type": "execute_result"
    }
   ],
   "source": [
    "replies=[] \n",
    "names=[]\n",
    "countreplies=[]\n",
    "count_replies=0\n",
    "reply_list=[]\n",
    "re=[]\n",
    "non_bmp_map = dict.fromkeys(range(0x10000, sys.maxunicode + 1), 0xfffd)  \n",
    "for status in tweepy.Cursor(api.user_timeline,screen_name=\"@iskconsjmblr\",timeout=99999).items(2):\n",
    "    for tweet in tweepy.Cursor(api.search,q='to:'+\"@iskconsjmblr\",result_type='replies',timeout=(99999)).items(10000):\n",
    "        if hasattr(tweet, 'in_reply_to_status_id_str'):\n",
    "            if (tweet.in_reply_to_status_id_str==status.id_str):\n",
    "                replies.append(tweet.text)\n",
    "                names.append(tweet.author.screen_name)\n",
    "                \n",
    "    print(\"Tweet :\",status.text.translate(non_bmp_map))\n",
    "    for elements in replies:\n",
    "        print(\"Replies :\",elements)\n",
    "        count_replies+=1\n",
    "    countreplies.append(count_replies)  \n",
    "    count_replies=0\n",
    "    for screen_name in names:\n",
    "        print(\"Replied by:\",screen_name)\n",
    "        reply_list.append(screen_name)\n",
    "        \n",
    "    names=[]\n",
    "    replies=[]  \n",
    "    \n",
    "    \n",
    "    re.append((reply_list))\n",
    "    reply_list=[]\n",
    "    \n",
    "print(countreplies)   \n",
    "ISKONSJM=countreplies\n",
    "re"
   ]
  },
  {
   "cell_type": "code",
   "execution_count": 114,
   "metadata": {},
   "outputs": [
    {
     "data": {
      "text/plain": [
       "[0, 0]"
      ]
     },
     "execution_count": 114,
     "metadata": {},
     "output_type": "execute_result"
    }
   ],
   "source": [
    "rtos=reply_of_secific_user_per_tweet(re,\"@radhanathswami\")\n",
    "rtos"
   ]
  },
  {
   "cell_type": "code",
   "execution_count": 115,
   "metadata": {},
   "outputs": [
    {
     "data": {
      "text/plain": [
       "[[], ['saugata479']]"
      ]
     },
     "execution_count": 115,
     "metadata": {},
     "output_type": "execute_result"
    }
   ],
   "source": [
    "ISKONSJMg=re\n",
    "ISKONSJMg"
   ]
  },
  {
   "cell_type": "code",
   "execution_count": 58,
   "metadata": {},
   "outputs": [
    {
     "data": {
      "text/plain": [
       "[0, 0]"
      ]
     },
     "execution_count": 58,
     "metadata": {},
     "output_type": "execute_result"
    }
   ],
   "source": [
    "sau"
   ]
  },
  {
   "cell_type": "code",
   "execution_count": 59,
   "metadata": {},
   "outputs": [
    {
     "data": {
      "text/plain": [
       "[3, 3]"
      ]
     },
     "execution_count": 59,
     "metadata": {},
     "output_type": "execute_result"
    }
   ],
   "source": [
    "radha\n"
   ]
  },
  {
   "cell_type": "code",
   "execution_count": 82,
   "metadata": {},
   "outputs": [
    {
     "data": {
      "text/html": [
       "<div>\n",
       "<style scoped>\n",
       "    .dataframe tbody tr th:only-of-type {\n",
       "        vertical-align: middle;\n",
       "    }\n",
       "\n",
       "    .dataframe tbody tr th {\n",
       "        vertical-align: top;\n",
       "    }\n",
       "\n",
       "    .dataframe thead th {\n",
       "        text-align: right;\n",
       "    }\n",
       "</style>\n",
       "<table border=\"1\" class=\"dataframe\">\n",
       "  <thead>\n",
       "    <tr style=\"text-align: right;\">\n",
       "      <th></th>\n",
       "      <th>ISKONSJM</th>\n",
       "      <th>RADHANATHSWAMI</th>\n",
       "      <th>RADHA_TO_SAU</th>\n",
       "      <th>Saugata</th>\n",
       "      <th>saugata_to radHa</th>\n",
       "    </tr>\n",
       "  </thead>\n",
       "  <tbody>\n",
       "    <tr>\n",
       "      <th>0</th>\n",
       "      <td>0</td>\n",
       "      <td>3</td>\n",
       "      <td>0</td>\n",
       "      <td>0</td>\n",
       "      <td>1</td>\n",
       "    </tr>\n",
       "    <tr>\n",
       "      <th>1</th>\n",
       "      <td>1</td>\n",
       "      <td>3</td>\n",
       "      <td>0</td>\n",
       "      <td>0</td>\n",
       "      <td>3</td>\n",
       "    </tr>\n",
       "  </tbody>\n",
       "</table>\n",
       "</div>"
      ],
      "text/plain": [
       "   ISKONSJM  RADHANATHSWAMI  RADHA_TO_SAU  Saugata  saugata_to radHa\n",
       "0         0               3             0        0                 1\n",
       "1         1               3             0        0                 3"
      ]
     },
     "execution_count": 82,
     "metadata": {},
     "output_type": "execute_result"
    }
   ],
   "source": [
    "DF = pd.DataFrame(\n",
    "    {'sauG':sauG ,\n",
    "     '':sau ,\n",
    "     'RADHANATHSWAMI': radha,\n",
    "    \"RADHA_TO_SAU\": rtos,\n",
    "     \"saugata_to radHa\": stor\n",
    "    })\n",
    "\n",
    "DF"
   ]
  },
  {
   "cell_type": "code",
   "execution_count": 105,
   "metadata": {},
   "outputs": [
    {
     "name": "stdout",
     "output_type": "stream",
     "text": [
      "Reciprocity 0.0\n",
      "Reciprocity Ratio : 2 : 0\n"
     ]
    }
   ],
   "source": [
    "# Dyadic properties\n",
    "# reciprocity- mean of the ratio of the number of @-replies from u to any user v, to the number of @-replies from v to u. \n",
    "import statistics\n",
    "\n",
    "\n",
    "\n",
    "def Reciprocity(utov,vtou):\n",
    "    \n",
    "        if statistics.mean(vtou)==0:\n",
    "            print (\"Reciprocity Ratio :\" ,statistics.mean(utov),\":\",statistics.mean(vtou))\n",
    "        else:\n",
    "            ratio=statistics.mean(utov)/statistics.mean(vtou)\n",
    "            print(\"Reciprocity\",ratio)\n",
    "\n",
    "Reciprocity(DF[\"RADHA_TO_SAU\"],DF[\"saugata_to radHa\"])\n",
    "Reciprocity(DF[\"saugata_to radHa\"],DF[\"RADHA_TO_SAU\"])"
   ]
  },
  {
   "cell_type": "code",
   "execution_count": 94,
   "metadata": {},
   "outputs": [
    {
     "name": "stdout",
     "output_type": "stream",
     "text": [
      "ratio is: 6 : 0\n"
     ]
    }
   ],
   "source": [
    "# prestige ratio\n",
    "# the number of @-replies that are targeted to u, to the number of @-replies targeted to a user v\n",
    "def prestige_ratio(u_reply,v_reply):\n",
    "    if v_reply==0:\n",
    "        print(\"ratio is:\",u_reply,\":\",0)\n",
    "    else:\n",
    "        print(\"ratio is:\",u_reply,\":\",v_reply)\n",
    "\n",
    "prestige_ratio(sum(DF[\"RADHANATHSWAMI\"]),sum(DF[\"Saugata\"]))\n",
    "\n"
   ]
  },
  {
   "cell_type": "code",
   "execution_count": 120,
   "metadata": {},
   "outputs": [
    {
     "data": {
      "text/html": [
       "<div>\n",
       "<style scoped>\n",
       "    .dataframe tbody tr th:only-of-type {\n",
       "        vertical-align: middle;\n",
       "    }\n",
       "\n",
       "    .dataframe tbody tr th {\n",
       "        vertical-align: top;\n",
       "    }\n",
       "\n",
       "    .dataframe thead th {\n",
       "        text-align: right;\n",
       "    }\n",
       "</style>\n",
       "<table border=\"1\" class=\"dataframe\">\n",
       "  <thead>\n",
       "    <tr style=\"text-align: right;\">\n",
       "      <th></th>\n",
       "      <th>ISKONSJMg</th>\n",
       "      <th>radhanathswami</th>\n",
       "      <th>saugata479</th>\n",
       "    </tr>\n",
       "  </thead>\n",
       "  <tbody>\n",
       "    <tr>\n",
       "      <th>0</th>\n",
       "      <td>[]</td>\n",
       "      <td>[saugata479, 4ever4Krishna, iamujr]</td>\n",
       "      <td>[]</td>\n",
       "    </tr>\n",
       "    <tr>\n",
       "      <th>1</th>\n",
       "      <td>[saugata479]</td>\n",
       "      <td>[saugata479, saugata479, saugata479]</td>\n",
       "      <td>[]</td>\n",
       "    </tr>\n",
       "  </tbody>\n",
       "</table>\n",
       "</div>"
      ],
      "text/plain": [
       "      ISKONSJMg                        radhanathswami saugata479\n",
       "0            []   [saugata479, 4ever4Krishna, iamujr]         []\n",
       "1  [saugata479]  [saugata479, saugata479, saugata479]         []"
      ]
     },
     "execution_count": 120,
     "metadata": {},
     "output_type": "execute_result"
    }
   ],
   "source": [
    "Graph = pd.DataFrame(\n",
    "    {'saugata479':sauG ,\n",
    "     'radhanathswami':radaG ,\n",
    "     'ISKONSJMg':ISKONSJMg ,\n",
    "    \n",
    "    })\n",
    "Graph \n"
   ]
  },
  {
   "cell_type": "code",
   "execution_count": 127,
   "metadata": {},
   "outputs": [
    {
     "data": {
      "text/plain": [
       "ISKONSJMg                                          []\n",
       "radhanathswami    [saugata479, 4ever4Krishna, iamujr]\n",
       "saugata479                                         []\n",
       "Name: 0, dtype: object"
      ]
     },
     "execution_count": 127,
     "metadata": {},
     "output_type": "execute_result"
    }
   ],
   "source": [
    "Graph.iloc[0]"
   ]
  },
  {
   "cell_type": "code",
   "execution_count": 131,
   "metadata": {},
   "outputs": [
    {
     "data": {
      "text/plain": [
       "{'ISKONSJMg': ['saugata479'],\n",
       " 'radhanathswami': ['saugata479', 'saugata479', 'saugata479'],\n",
       " 'saugata479': []}"
      ]
     },
     "execution_count": 131,
     "metadata": {},
     "output_type": "execute_result"
    }
   ],
   "source": [
    "graph = {'saugata479':sauG[1] ,\n",
    "     'radhanathswami':radaG[1] ,\n",
    "     'ISKONSJMg':ISKONSJMg[1] ,\n",
    "         \n",
    "         }\n",
    "graph"
   ]
  },
  {
   "cell_type": "code",
   "execution_count": 136,
   "metadata": {},
   "outputs": [
    {
     "name": "stdout",
     "output_type": "stream",
     "text": [
      "[('radhanathswami', 'saugata479'), ('radhanathswami', 'saugata479'), ('radhanathswami', 'saugata479'), ('ISKONSJMg', 'saugata479')]\n"
     ]
    }
   ],
   "source": [
    "# an edge between u and v implies that there has been at least one @-reply exchange each, from u to v, and from v to u on a given day. \n",
    "def generate_edges(graph):\n",
    "    edges = []\n",
    "    for node in graph:\n",
    "        for neighbour in graph[node]:\n",
    "            edges.append((node, neighbour))\n",
    "\n",
    "    return edges\n",
    "\n",
    "print(generate_edges(graph))"
   ]
  },
  {
   "cell_type": "code",
   "execution_count": 137,
   "metadata": {},
   "outputs": [
    {
     "name": "stdout",
     "output_type": "stream",
     "text": [
      "total no of replies exchange :  4\n"
     ]
    }
   ],
   "source": [
    "print (\"total no of replies exchange : \",len((generate_edges(graph))))"
   ]
  },
  {
   "cell_type": "code",
   "execution_count": 140,
   "metadata": {},
   "outputs": [
    {
     "name": "stdout",
     "output_type": "stream",
     "text": [
      "@-reply exchange each from u to v: 0\n",
      "@-reply exchange each from v to u:  3\n"
     ]
    }
   ],
   "source": [
    "\n",
    "countu=0\n",
    "countv=0\n",
    "list=generate_edges(graph)\n",
    "for x,y in list:\n",
    "    if x=='radhanathswami':\n",
    "        countv+=1\n",
    "    if x=='saugata479':\n",
    "        countu+=1\n",
    "print(\"@-reply exchange each from u to v:\",countu)\n",
    "print(\"@-reply exchange each from v to u: \",countv)"
   ]
  },
  {
   "cell_type": "code",
   "execution_count": 158,
   "metadata": {
    "collapsed": true
   },
   "outputs": [],
   "source": [
    "#outlinks\n",
    "\n",
    "def outlinks(username):\n",
    "    countout=0\n",
    "    list=generate_edges(graph)\n",
    "    for x,y in list:\n",
    "        if y==username:\n",
    "            countout+=1\n",
    "    print(\"No of outlinks of \",  username ,\"is:\",countout)\n",
    "    return countout"
   ]
  },
  {
   "cell_type": "code",
   "execution_count": 159,
   "metadata": {},
   "outputs": [
    {
     "name": "stdout",
     "output_type": "stream",
     "text": [
      "No of outlinks of  radhanathswami is: 0\n"
     ]
    },
    {
     "data": {
      "text/plain": [
       "0"
      ]
     },
     "execution_count": 159,
     "metadata": {},
     "output_type": "execute_result"
    }
   ],
   "source": [
    "outlinks('radhanathswami')"
   ]
  },
  {
   "cell_type": "code",
   "execution_count": 167,
   "metadata": {
    "collapsed": true
   },
   "outputs": [],
   "source": [
    "#outlinks\n",
    "\n",
    "username='v'\n",
    "def inlinks(username):\n",
    "    countin=0\n",
    "\n",
    "    list=generate_edges(graph)\n",
    "    for x,y in list:\n",
    "        if x==username:\n",
    "            countin+=1\n",
    "    print(\"No of inlinks of \",  username ,\"is:\",countin)\n",
    "    return countin"
   ]
  },
  {
   "cell_type": "code",
   "execution_count": 168,
   "metadata": {},
   "outputs": [
    {
     "name": "stdout",
     "output_type": "stream",
     "text": [
      "No of inlinks of  radhanathswami is: 3\n"
     ]
    },
    {
     "data": {
      "text/plain": [
       "3"
      ]
     },
     "execution_count": 168,
     "metadata": {},
     "output_type": "execute_result"
    }
   ],
   "source": [
    "inlinks('radhanathswami')"
   ]
  },
  {
   "cell_type": "code",
   "execution_count": 169,
   "metadata": {},
   "outputs": [
    {
     "name": "stdout",
     "output_type": "stream",
     "text": [
      "Reciprocity per Day: 0.0\n"
     ]
    }
   ],
   "source": [
    "# reciprocity\n",
    "# mean of the ratio of the number of @-replies from u to any user v, to the number of @-replies from v to  u\n",
    "import statistics\n",
    "\n",
    "#ratio=statistics.mean(countu)/statistics.mean(countv)\n",
    "\n",
    "\n",
    "ratio=(countu)/(countv)\n",
    "print(\"Reciprocity per Day:\",ratio)"
   ]
  },
  {
   "cell_type": "code",
   "execution_count": 170,
   "metadata": {},
   "outputs": [
    {
     "name": "stdout",
     "output_type": "stream",
     "text": [
      "No of inlinks of  saugata479 is: 0\n",
      "Infinite prestige ratio\n"
     ]
    }
   ],
   "source": [
    "# prestige ratio\n",
    "# the number of @-replies that are targeted to u, to the number of @-replies targeted to a user v\n",
    "def prestige_ratio():\n",
    "    \n",
    "    if inlinks('saugata479')==0:\n",
    "        print(\"Infinite prestige ratio\")\n",
    "    else:  \n",
    "        print(\"Prestige Ratio:\",inlinks('radhanathswami')/inlinks('saugata479'))\n",
    "    \n",
    "prestige_ratio()\n"
   ]
  },
  {
   "cell_type": "code",
   "execution_count": 171,
   "metadata": {},
   "outputs": [
    {
     "data": {
      "text/plain": [
       "1.3333333333333333"
      ]
     },
     "execution_count": 171,
     "metadata": {},
     "output_type": "execute_result"
    }
   ],
   "source": [
    "# graph density to be the ratio of the count of edges to the count of nodes in u’s egocentric social graph.\n",
    "def graphdensity():\n",
    "    return len((generate_edges(graph)))/len(graph.keys())\n",
    "graphdensity()"
   ]
  },
  {
   "cell_type": "code",
   "execution_count": 172,
   "metadata": {
    "collapsed": true
   },
   "outputs": [],
   "source": [
    "def links(username): \n",
    "    link=[]\n",
    "    for x,y in list:\n",
    "        if x==username:\n",
    "            link.append(y)\n",
    "        if y==username:\n",
    "            link.append(x)\n",
    "    unique_list = []\n",
    "     \n",
    "    # traverse for all elements\n",
    "    for x in link:\n",
    "        # check if exists in unique_list or not\n",
    "        if x not in unique_list:\n",
    "            unique_list.append(x)\n",
    " \n",
    "    return(unique_list)"
   ]
  },
  {
   "cell_type": "code",
   "execution_count": 173,
   "metadata": {},
   "outputs": [
    {
     "data": {
      "text/plain": [
       "['saugata479']"
      ]
     },
     "execution_count": 173,
     "metadata": {},
     "output_type": "execute_result"
    }
   ],
   "source": [
    "links(\"radhanathswami\")"
   ]
  },
  {
   "cell_type": "code",
   "execution_count": 174,
   "metadata": {
    "collapsed": true
   },
   "outputs": [],
   "source": [
    "def twonei():\n",
    "    count=0\n",
    "    for x,y in generate_edges(graph):\n",
    "        for i in range(0,len(links(\"radhanathswami\"))) : \n",
    "            for j in range(0,len(links(\"radhanathswami\"))) :        \n",
    "                  if (links(\"radhanathswami\"))[i]==x and links(\"radhanathswami\")[j]==y:\n",
    "                         count+=1\n",
    "    return count"
   ]
  },
  {
   "cell_type": "code",
   "execution_count": 175,
   "metadata": {},
   "outputs": [
    {
     "data": {
      "text/plain": [
       "0"
      ]
     },
     "execution_count": 175,
     "metadata": {},
     "output_type": "execute_result"
    }
   ],
   "source": [
    "twonei()"
   ]
  },
  {
   "cell_type": "code",
   "execution_count": 178,
   "metadata": {
    "collapsed": true
   },
   "outputs": [],
   "source": [
    "# clustering coefficient of u’s ego network, which is a standard notion of local density, i.e. the average probability that two neighbors\n",
    "#of u are neighbors of each other\n",
    "def clusturing_coff():\n",
    "    probability=twonei()/len((links(\"radhanathswami\")))\n",
    "    return probability"
   ]
  },
  {
   "cell_type": "code",
   "execution_count": 179,
   "metadata": {},
   "outputs": [
    {
     "data": {
      "text/plain": [
       "0.0"
      ]
     },
     "execution_count": 179,
     "metadata": {},
     "output_type": "execute_result"
    }
   ],
   "source": [
    "clusturing_coff()"
   ]
  },
  {
   "cell_type": "code",
   "execution_count": 180,
   "metadata": {},
   "outputs": [
    {
     "data": {
      "text/plain": [
       "3"
      ]
     },
     "execution_count": 180,
     "metadata": {},
     "output_type": "execute_result"
    }
   ],
   "source": [
    "#The third feature, size oftwo-hop neighborhood is defined as the count of all of u’s neighbors, plus all of the neighbors of u’s neighbors\n",
    "\n",
    "def size_of_twohop_neighborhood(u):\n",
    "    count=0\n",
    "    for i in range(0,len(links(u))):\n",
    "        count+=len( links(links(u)[i]))\n",
    "    return len(links(u))+count\n",
    "size_of_twohop_neighborhood(\"radhanathswami\")"
   ]
  },
  {
   "cell_type": "code",
   "execution_count": 184,
   "metadata": {},
   "outputs": [
    {
     "data": {
      "text/plain": [
       "['saugata479']"
      ]
     },
     "execution_count": 184,
     "metadata": {},
     "output_type": "execute_result"
    }
   ],
   "source": [
    "# embeddedness of u with respect to her neighborhood as the mean of the ratio between the set of common neighbors between u and any neighbor v, and\n",
    "#the set of all neighbors of u and v\n",
    "\n",
    "uneigh=links(\"radhanathswami\")\n",
    "vneigh=links(\"saugata479\")\n",
    "\n",
    "uneigh\n",
    "\n"
   ]
  },
  {
   "cell_type": "code",
   "execution_count": 185,
   "metadata": {},
   "outputs": [
    {
     "data": {
      "text/plain": [
       "['radhanathswami', 'ISKONSJMg']"
      ]
     },
     "execution_count": 185,
     "metadata": {},
     "output_type": "execute_result"
    }
   ],
   "source": [
    "vneigh"
   ]
  },
  {
   "cell_type": "code",
   "execution_count": 186,
   "metadata": {},
   "outputs": [
    {
     "data": {
      "text/plain": [
       "[]"
      ]
     },
     "execution_count": 186,
     "metadata": {},
     "output_type": "execute_result"
    }
   ],
   "source": [
    "def findcommon(uneigh,vneigh):\n",
    "    commonset=[]\n",
    "    for i in uneigh:\n",
    "        for j in vneigh:\n",
    "            if i==j:\n",
    "                commonset.append(i)\n",
    "    return commonset            \n",
    "findcommon(uneigh,vneigh)"
   ]
  },
  {
   "cell_type": "code",
   "execution_count": 187,
   "metadata": {},
   "outputs": [
    {
     "data": {
      "text/plain": [
       "['saugata479', 'radhanathswami', 'ISKONSJMg']"
      ]
     },
     "execution_count": 187,
     "metadata": {},
     "output_type": "execute_result"
    }
   ],
   "source": [
    "def findall(uneigh,vneigh):\n",
    "    allset=[]\n",
    "    for i in uneigh:\n",
    "        allset.append(i)\n",
    "    for j in vneigh:\n",
    "        if i!=j:\n",
    "            allset.append(j)\n",
    "        \n",
    "    return allset            \n",
    "findall(uneigh,vneigh)"
   ]
  },
  {
   "cell_type": "code",
   "execution_count": 188,
   "metadata": {},
   "outputs": [
    {
     "data": {
      "text/plain": [
       "0.0"
      ]
     },
     "execution_count": 188,
     "metadata": {},
     "output_type": "execute_result"
    }
   ],
   "source": [
    "def  embeddedness(): \n",
    "    \n",
    "    return len(findcommon(uneigh,vneigh))/len(findall(uneigh,vneigh))\n",
    "embeddedness()   "
   ]
  },
  {
   "cell_type": "code",
   "execution_count": 190,
   "metadata": {},
   "outputs": [
    {
     "name": "stdout",
     "output_type": "stream",
     "text": [
      "[('radhanathswami', 'saugata479'), ('radhanathswami', 'saugata479'), ('radhanathswami', 'saugata479'), ('ISKONSJMg', 'saugata479')]\n"
     ]
    }
   ],
   "source": [
    "\n",
    "def generate_edges(graph):\n",
    "    edges = []\n",
    "    for node in graph:\n",
    "        for neighbour in graph[node]:\n",
    "            edges.append((node, neighbour))\n",
    "\n",
    "    return edges\n",
    "\n",
    "print(generate_edges(graph))"
   ]
  },
  {
   "cell_type": "code",
   "execution_count": 189,
   "metadata": {},
   "outputs": [
    {
     "data": {
      "text/plain": [
       "[('ISKONSJMg', 'saugata479')]"
      ]
     },
     "execution_count": 189,
     "metadata": {},
     "output_type": "execute_result"
    }
   ],
   "source": [
    "#ego components in u’s egonetwork,defined as the count of the number of connected components that remain when the focal node u and its incident\n",
    "#edges are removed\n",
    "\n",
    "def remove(u):\n",
    "    remaining=[]\n",
    "    for x,y in (generate_edges(graph)):\n",
    "        if x!=u and y!=u:\n",
    "            remaining.append((x,y))\n",
    "    return remaining\n",
    "remove('radhanathswami')\n",
    "\n"
   ]
  },
  {
   "cell_type": "code",
   "execution_count": 191,
   "metadata": {},
   "outputs": [
    {
     "data": {
      "text/plain": [
       "1"
      ]
     },
     "execution_count": 191,
     "metadata": {},
     "output_type": "execute_result"
    }
   ],
   "source": [
    "def egocomponents(u): \n",
    "    return  len(remove(u))\n",
    "egocomponents('radhanathswami')"
   ]
  },
  {
   "cell_type": "code",
   "execution_count": null,
   "metadata": {
    "collapsed": true
   },
   "outputs": [],
   "source": []
  }
 ],
 "metadata": {
  "kernelspec": {
   "display_name": "Python 3",
   "language": "python",
   "name": "python3"
  },
  "language_info": {
   "codemirror_mode": {
    "name": "ipython",
    "version": 3
   },
   "file_extension": ".py",
   "mimetype": "text/x-python",
   "name": "python",
   "nbconvert_exporter": "python",
   "pygments_lexer": "ipython3",
   "version": "3.6.3"
  }
 },
 "nbformat": 4,
 "nbformat_minor": 2
}
