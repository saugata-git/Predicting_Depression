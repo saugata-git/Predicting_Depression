{
 "cells": [
  {
   "cell_type": "code",
   "execution_count": 1,
   "metadata": {},
   "outputs": [
    {
     "name": "stdout",
     "output_type": "stream",
     "text": [
      "{'u': ['v', 'v', 'd'], 'v': ['u'], 'c': ['u', 'v'], 'd': []}\n"
     ]
    }
   ],
   "source": [
    "graph = { \"u\" : [\"v\",\"v\",\"d\"],\n",
    "          \"v\" : [\"u\"],\n",
    "          \"c\" :[\"u\",\"v\"],\n",
    "          \"d\":[]\n",
    "         }\n",
    "\n",
    "print(graph)\n"
   ]
  },
  {
   "cell_type": "code",
   "execution_count": 2,
   "metadata": {},
   "outputs": [
    {
     "name": "stdout",
     "output_type": "stream",
     "text": [
      "[('u', 'v'), ('u', 'v'), ('u', 'd'), ('v', 'u'), ('c', 'u'), ('c', 'v')]\n"
     ]
    }
   ],
   "source": [
    "# an edge between u and v implies that there has been at least one @-reply exchange each, from u to v, and from v to u on a given day. \n",
    "def generate_edges(graph):\n",
    "    edges = []\n",
    "    for node in graph:\n",
    "        for neighbour in graph[node]:\n",
    "            edges.append((node, neighbour))\n",
    "\n",
    "    return edges\n",
    "\n",
    "print(generate_edges(graph))"
   ]
  },
  {
   "cell_type": "code",
   "execution_count": 3,
   "metadata": {},
   "outputs": [
    {
     "name": "stdout",
     "output_type": "stream",
     "text": [
      "total no of replies exchange :  6\n"
     ]
    }
   ],
   "source": [
    "print (\"total no of replies exchange : \",len((generate_edges(graph))))"
   ]
  },
  {
   "cell_type": "code",
   "execution_count": 4,
   "metadata": {},
   "outputs": [
    {
     "name": "stdout",
     "output_type": "stream",
     "text": [
      "@-reply exchange each from u to v: 3\n",
      "@-reply exchange each from v to u:  1\n"
     ]
    }
   ],
   "source": [
    "countu=0\n",
    "countv=0\n",
    "list=generate_edges(graph)\n",
    "for x,y in list:\n",
    "    if x=='u':\n",
    "        countu+=1\n",
    "    if x=='v':\n",
    "        countv+=1\n",
    "print(\"@-reply exchange each from u to v:\",countu)\n",
    "print(\"@-reply exchange each from v to u: \",countv)"
   ]
  },
  {
   "cell_type": "code",
   "execution_count": 5,
   "metadata": {
    "collapsed": true
   },
   "outputs": [],
   "source": [
    "#inlinks\n",
    "username='v'\n",
    "def inlinks(username):\n",
    "    countin=0\n",
    "    list=generate_edges(graph)\n",
    "    for x,y in list:\n",
    "        if y==username:\n",
    "            countin+=1\n",
    "    print(\"No of inlinks of \",  username ,\"is:\",countin)\n",
    "    return countin"
   ]
  },
  {
   "cell_type": "code",
   "execution_count": 6,
   "metadata": {},
   "outputs": [
    {
     "name": "stdout",
     "output_type": "stream",
     "text": [
      "No of inlinks of  u is: 2\n"
     ]
    },
    {
     "data": {
      "text/plain": [
       "2"
      ]
     },
     "execution_count": 6,
     "metadata": {},
     "output_type": "execute_result"
    }
   ],
   "source": [
    "inlinks('u')"
   ]
  },
  {
   "cell_type": "code",
   "execution_count": 7,
   "metadata": {
    "collapsed": true
   },
   "outputs": [],
   "source": [
    "#outlinks\n",
    "\n",
    "username='v'\n",
    "def outlinks(username):\n",
    "    countout=0\n",
    "\n",
    "    list=generate_edges(graph)\n",
    "    for x,y in list:\n",
    "        if x==username:\n",
    "            countout+=1\n",
    "    print(\"No of inlinks of \",  username ,\"is:\",countout)"
   ]
  },
  {
   "cell_type": "code",
   "execution_count": 8,
   "metadata": {},
   "outputs": [
    {
     "name": "stdout",
     "output_type": "stream",
     "text": [
      "No of inlinks of  v is: 1\n"
     ]
    }
   ],
   "source": [
    "outlinks(username)"
   ]
  },
  {
   "cell_type": "markdown",
   "metadata": {},
   "source": [
    " Dyadic properties."
   ]
  },
  {
   "cell_type": "code",
   "execution_count": 9,
   "metadata": {},
   "outputs": [
    {
     "name": "stdout",
     "output_type": "stream",
     "text": [
      "Reciprocity per Day: 3.0\n"
     ]
    }
   ],
   "source": [
    "# reciprocity\n",
    "# mean of the ratio of the number of @-replies from u to any user v, to the number of @-replies from v to  u\n",
    "import statistics\n",
    "\n",
    "#ratio=statistics.mean(countu)/statistics.mean(countv)\n",
    "\n",
    "\n",
    "ratio=(countu)/(countv)\n",
    "print(\"Reciprocity per Day:\",ratio)\n",
    "\n",
    "\n",
    "\n",
    "\n"
   ]
  },
  {
   "cell_type": "code",
   "execution_count": 10,
   "metadata": {},
   "outputs": [
    {
     "name": "stdout",
     "output_type": "stream",
     "text": [
      "No of inlinks of  u is: 2\n",
      "No of inlinks of  v is: 3\n"
     ]
    },
    {
     "data": {
      "text/plain": [
       "0.6666666666666666"
      ]
     },
     "execution_count": 10,
     "metadata": {},
     "output_type": "execute_result"
    }
   ],
   "source": [
    "# prestige ratio\n",
    "# the number of @-replies that are targeted to u, to the number of @-replies targeted to a user v\n",
    "def prestige_ratio():\n",
    "    \n",
    "    \n",
    "    return (inlinks('u')/inlinks('v'))\n",
    "    \n",
    "prestige_ratio()\n"
   ]
  },
  {
   "cell_type": "code",
   "execution_count": 11,
   "metadata": {
    "collapsed": true
   },
   "outputs": [],
   "source": [
    "# graph density to be the ratio of the count of edges to the count of nodes in u’s egocentric social graph."
   ]
  },
  {
   "cell_type": "code",
   "execution_count": 12,
   "metadata": {},
   "outputs": [
    {
     "data": {
      "text/plain": [
       "1.5"
      ]
     },
     "execution_count": 12,
     "metadata": {},
     "output_type": "execute_result"
    }
   ],
   "source": [
    "def graphdensity():\n",
    "    return len((generate_edges(graph)))/len(graph.keys())\n",
    "graphdensity()"
   ]
  },
  {
   "cell_type": "code",
   "execution_count": 13,
   "metadata": {
    "collapsed": true,
    "scrolled": true
   },
   "outputs": [],
   "source": [
    "\n",
    "def links(username): \n",
    "    link=[]\n",
    "    for x,y in list:\n",
    "        if x==username:\n",
    "            link.append(y)\n",
    "        if y==username:\n",
    "            link.append(x)\n",
    "    unique_list = []\n",
    "     \n",
    "    # traverse for all elements\n",
    "    for x in link:\n",
    "        # check if exists in unique_list or not\n",
    "        if x not in unique_list:\n",
    "            unique_list.append(x)\n",
    " \n",
    "    return(unique_list)\n",
    "             "
   ]
  },
  {
   "cell_type": "code",
   "execution_count": 14,
   "metadata": {},
   "outputs": [
    {
     "data": {
      "text/plain": [
       "['v', 'd', 'c']"
      ]
     },
     "execution_count": 14,
     "metadata": {},
     "output_type": "execute_result"
    }
   ],
   "source": [
    "(links('u'))"
   ]
  },
  {
   "cell_type": "code",
   "execution_count": 15,
   "metadata": {
    "collapsed": true
   },
   "outputs": [],
   "source": [
    "def twonei():\n",
    "    count=0\n",
    "    for x,y in generate_edges(graph):\n",
    "        for i in range(0,len(links('u'))) : \n",
    "            for j in range(0,len(links('u'))) :        \n",
    "                  if (links('u'))[i]==x and links('u')[j]==y:\n",
    "                         count+=1\n",
    "    return count            "
   ]
  },
  {
   "cell_type": "code",
   "execution_count": 16,
   "metadata": {},
   "outputs": [
    {
     "data": {
      "text/plain": [
       "[('u', 'v'), ('u', 'v'), ('u', 'd'), ('v', 'u'), ('c', 'u'), ('c', 'v')]"
      ]
     },
     "execution_count": 16,
     "metadata": {},
     "output_type": "execute_result"
    }
   ],
   "source": [
    "generate_edges(graph)"
   ]
  },
  {
   "cell_type": "code",
   "execution_count": 17,
   "metadata": {
    "collapsed": true
   },
   "outputs": [],
   "source": [
    "# clustering coefficient of u’s ego network, which is a standard notion of local density, i.e. the average probability that two neighbors\n",
    "#of u are neighbors of each other\n",
    "\n",
    "def clusturing_coff():\n",
    "    probability=twonei()/len((links('u')))\n",
    "    return probability"
   ]
  },
  {
   "cell_type": "code",
   "execution_count": 18,
   "metadata": {},
   "outputs": [
    {
     "data": {
      "text/plain": [
       "0.3333333333333333"
      ]
     },
     "execution_count": 18,
     "metadata": {},
     "output_type": "execute_result"
    }
   ],
   "source": [
    "clusturing_coff()"
   ]
  },
  {
   "cell_type": "code",
   "execution_count": 19,
   "metadata": {
    "collapsed": true
   },
   "outputs": [],
   "source": [
    "#The third feature, size oftwo-hop neighborhood is defined as the count of all of u’s neighbors, plus all of the neighbors of u’s neighbors\n",
    "\n",
    "def size_of_twohop_neighborhood():\n",
    "    count=0\n",
    "    for i in range(0,len(links('u'))):\n",
    "        count+=len( links(links('u')[i]))\n",
    "    return len(links('u'))+count"
   ]
  },
  {
   "cell_type": "code",
   "execution_count": 20,
   "metadata": {},
   "outputs": [
    {
     "data": {
      "text/plain": [
       "8"
      ]
     },
     "execution_count": 20,
     "metadata": {},
     "output_type": "execute_result"
    }
   ],
   "source": [
    "size_of_twohop_neighborhood()"
   ]
  },
  {
   "cell_type": "code",
   "execution_count": 23,
   "metadata": {
    "collapsed": true
   },
   "outputs": [],
   "source": [
    "# embeddedness of u with respect to her neighborhood as the mean of the ratio between the set of common neighbors between u and any neighbor v, and\n",
    "#the set of all neighbors of u and v\n",
    "\n",
    "uneigh=links('u')\n",
    "vneigh=links('v')\n",
    "\n"
   ]
  },
  {
   "cell_type": "code",
   "execution_count": 24,
   "metadata": {},
   "outputs": [
    {
     "data": {
      "text/plain": [
       "['v', 'd', 'c']"
      ]
     },
     "execution_count": 24,
     "metadata": {},
     "output_type": "execute_result"
    }
   ],
   "source": [
    "uneigh"
   ]
  },
  {
   "cell_type": "code",
   "execution_count": 25,
   "metadata": {},
   "outputs": [
    {
     "data": {
      "text/plain": [
       "['u', 'c']"
      ]
     },
     "execution_count": 25,
     "metadata": {},
     "output_type": "execute_result"
    }
   ],
   "source": [
    "vneigh"
   ]
  },
  {
   "cell_type": "code",
   "execution_count": 28,
   "metadata": {},
   "outputs": [
    {
     "data": {
      "text/plain": [
       "['c']"
      ]
     },
     "execution_count": 28,
     "metadata": {},
     "output_type": "execute_result"
    }
   ],
   "source": [
    "def findcommon(uneigh,vneigh):\n",
    "    commonset=[]\n",
    "    for i in uneigh:\n",
    "        for j in vneigh:\n",
    "            if i==j:\n",
    "                commonset.append(i)\n",
    "    return commonset            \n",
    "findcommon(uneigh,vneigh)"
   ]
  },
  {
   "cell_type": "code",
   "execution_count": 37,
   "metadata": {},
   "outputs": [
    {
     "data": {
      "text/plain": [
       "['v', 'd', 'c', 'u']"
      ]
     },
     "execution_count": 37,
     "metadata": {},
     "output_type": "execute_result"
    }
   ],
   "source": [
    "def findall(uneigh,vneigh):\n",
    "    allset=[]\n",
    "    for i in uneigh:\n",
    "        allset.append(i)\n",
    "    for j in vneigh:\n",
    "        if i!=j:\n",
    "            allset.append(j)\n",
    "        \n",
    "    return allset            \n",
    "findall(uneigh,vneigh)"
   ]
  },
  {
   "cell_type": "code",
   "execution_count": 39,
   "metadata": {},
   "outputs": [
    {
     "data": {
      "text/plain": [
       "0.25"
      ]
     },
     "execution_count": 39,
     "metadata": {},
     "output_type": "execute_result"
    }
   ],
   "source": [
    "def  embeddedness(): \n",
    "    \n",
    "    return len(findcommon(uneigh,vneigh))/len(findall(uneigh,vneigh))\n",
    "embeddedness()    "
   ]
  },
  {
   "cell_type": "code",
   "execution_count": 43,
   "metadata": {},
   "outputs": [
    {
     "name": "stdout",
     "output_type": "stream",
     "text": [
      "{'u': ['v', 'v', 'd'], 'v': ['u'], 'c': ['u', 'v'], 'd': []}\n",
      "[('u', 'v'), ('u', 'v'), ('u', 'd'), ('v', 'u'), ('c', 'u'), ('c', 'v')]\n"
     ]
    }
   ],
   "source": [
    "#ego components in u’s egonetwork,defined as the count of the number of connected components that remain when the focal node u and its incident\n",
    "#edges are removed\n",
    "\n",
    "\n",
    "graph = { \"u\" : [\"v\",\"v\",\"d\"],\n",
    "          \"v\" : [\"u\"],\n",
    "          \"c\" :[\"u\",\"v\"],\n",
    "          \"d\":[]\n",
    "         }\n",
    "\n",
    "print(graph)\n",
    "\n",
    "\n",
    "def generate_edges(graph):\n",
    "    edges = []\n",
    "    for node in graph:\n",
    "        for neighbour in graph[node]:\n",
    "            edges.append((node, neighbour))\n",
    "\n",
    "    return edges\n",
    "\n",
    "print(generate_edges(graph))\n",
    "\n",
    "\n",
    "\n",
    "\n",
    "\n",
    "\n",
    "\n"
   ]
  },
  {
   "cell_type": "code",
   "execution_count": 51,
   "metadata": {},
   "outputs": [
    {
     "data": {
      "text/plain": [
       "[('c', 'v')]"
      ]
     },
     "execution_count": 51,
     "metadata": {},
     "output_type": "execute_result"
    }
   ],
   "source": [
    "def remove(u):\n",
    "    remaining=[]\n",
    "    for x,y in (generate_edges(graph)):\n",
    "        if x!=u and y!=u:\n",
    "            remaining.append((x,y))\n",
    "    return remaining\n",
    "remove('u')"
   ]
  },
  {
   "cell_type": "code",
   "execution_count": 56,
   "metadata": {
    "collapsed": true
   },
   "outputs": [],
   "source": [
    "def egocomponents(u): \n",
    "    return  len(remove('u'))"
   ]
  },
  {
   "cell_type": "code",
   "execution_count": 57,
   "metadata": {},
   "outputs": [
    {
     "data": {
      "text/plain": [
       "1"
      ]
     },
     "execution_count": 57,
     "metadata": {},
     "output_type": "execute_result"
    }
   ],
   "source": [
    "egocomponents('u')"
   ]
  },
  {
   "cell_type": "code",
   "execution_count": null,
   "metadata": {
    "collapsed": true
   },
   "outputs": [],
   "source": []
  }
 ],
 "metadata": {
  "kernelspec": {
   "display_name": "Python 3",
   "language": "python",
   "name": "python3"
  },
  "language_info": {
   "codemirror_mode": {
    "name": "ipython",
    "version": 3
   },
   "file_extension": ".py",
   "mimetype": "text/x-python",
   "name": "python",
   "nbconvert_exporter": "python",
   "pygments_lexer": "ipython3",
   "version": "3.6.3"
  }
 },
 "nbformat": 4,
 "nbformat_minor": 2
}
